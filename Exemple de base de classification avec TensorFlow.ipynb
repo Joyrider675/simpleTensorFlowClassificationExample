{
 "cells": [
  {
   "cell_type": "markdown",
   "metadata": {},
   "source": [
    "# Exemple de base de classification avec TensorFlow\n",
    "\n",
    "Ce carnet de notes est un compagnon de [Un guide visuel et interactif des bases des réseaux neuronaux](https://rr0.org/people/a/AlammarJay/visual-interactive-guide-basics-neural-networks/index_fr.html).\n",
    "\n",
    "Voici un exemple de comment faire un classement sur un ensemble de données simple dans TensorFlow.\n",
    "Pour résumer, on construit un modèle pour aider une amie à choisir une maison à acheter.\n",
    "Elle nous a donné le tableau ci-dessous de maisons et si elle les aime ou non.\n",
    "Nous allons élaborer un modèle qui prend une surface de maison et un nombre de salles de bain en entrée,\n",
    "et sort une prédiction indiquant si elle aimera la maison ou non.\n",
    "\n",
    "| Surface (pieds²) (x1) | Salles de bain (x2) | Libellé (y) |\n",
    " | --- | --- | --- |\n",
    " | 2104 |  3 | Bon |\n",
    " | 1600 |  3 | Bon |\n",
    " | 2400 |  3 | Bon |\n",
    " | 1416 | \t2 | Mauvais |\n",
    " | 3000 | \t4 | Mauvais |\n",
    " | 1985 | \t4 | Bon |\n",
    " | 1534 | \t3 | Mauvais |\n",
    " | 1427 | \t3 | Bon |\n",
    " | 1380 | \t3 | Bon |\n",
    " | 1494 | \t3 | Bon |\n",
    "\n",
    "Nous allons commencer en chargeant nos bibliothèques favorites"
   ]
  },
  {
   "cell_type": "code",
   "execution_count": 1,
   "metadata": {
    "collapsed": false
   },
   "outputs": [],
   "source": [
    "%matplotlib inline               \n",
    "import pandas as pd              # Une belle bibliothèque pour nous aider à travailler les données sous forme tabulaire\n",
    "import numpy as np               # Pour que l'on puisse utiliser les matrices de nombres. Pandas comme TensorFlow en ont besoin.\n",
    "import matplotlib.pyplot as plt  # Visualiser les choses\n",
    "import tensorflow as tf          # Le feu des dieux\n"
   ]
  },
  {
   "cell_type": "markdown",
   "metadata": {},
   "source": [
    "Nous allons ensuite charger le CSV des données de maisons.\n",
    "Pandas est une bibliothèque incroyable offrant une grande souplesse dans le traitement des données tabulaires.\n",
    "On charge les tableaux (ou des fichiers csv, ou des feuilles excel) dans une \"data frame\", et on les traite comme on veut.\n",
    "Vous pouvez voir ça comme une manière programmatique de faire beaucoup des choses que vous avez faites avant avec Excel."
   ]
  },
  {
   "cell_type": "code",
   "execution_count": 2,
   "metadata": {
    "collapsed": false,
    "scrolled": true
   },
   "outputs": [
    {
     "data": {
      "text/plain": "     area  bathrooms\n0  2104.0        3.0\n1  1600.0        3.0\n2  2400.0        3.0\n3  1416.0        2.0\n4  3000.0        4.0\n5  1985.0        4.0\n6  1534.0        3.0\n7  1427.0        3.0\n8  1380.0        3.0\n9  1494.0        3.0",
      "text/html": "<div>\n<style scoped>\n    .dataframe tbody tr th:only-of-type {\n        vertical-align: middle;\n    }\n\n    .dataframe tbody tr th {\n        vertical-align: top;\n    }\n\n    .dataframe thead th {\n        text-align: right;\n    }\n</style>\n<table border=\"1\" class=\"dataframe\">\n  <thead>\n    <tr style=\"text-align: right;\">\n      <th></th>\n      <th>area</th>\n      <th>bathrooms</th>\n    </tr>\n  </thead>\n  <tbody>\n    <tr>\n      <th>0</th>\n      <td>2104.0</td>\n      <td>3.0</td>\n    </tr>\n    <tr>\n      <th>1</th>\n      <td>1600.0</td>\n      <td>3.0</td>\n    </tr>\n    <tr>\n      <th>2</th>\n      <td>2400.0</td>\n      <td>3.0</td>\n    </tr>\n    <tr>\n      <th>3</th>\n      <td>1416.0</td>\n      <td>2.0</td>\n    </tr>\n    <tr>\n      <th>4</th>\n      <td>3000.0</td>\n      <td>4.0</td>\n    </tr>\n    <tr>\n      <th>5</th>\n      <td>1985.0</td>\n      <td>4.0</td>\n    </tr>\n    <tr>\n      <th>6</th>\n      <td>1534.0</td>\n      <td>3.0</td>\n    </tr>\n    <tr>\n      <th>7</th>\n      <td>1427.0</td>\n      <td>3.0</td>\n    </tr>\n    <tr>\n      <th>8</th>\n      <td>1380.0</td>\n      <td>3.0</td>\n    </tr>\n    <tr>\n      <th>9</th>\n      <td>1494.0</td>\n      <td>3.0</td>\n    </tr>\n  </tbody>\n</table>\n</div>"
     },
     "execution_count": 2,
     "metadata": {},
     "output_type": "execute_result"
    }
   ],
   "source": [
    "dataframe = pd.read_csv(\"data.csv\") # Demandons à Pandas de charger notre ensemble de données comme une dataframe\n",
    "dataframe = dataframe.drop([\"index\", \"price\", \"sq_price\"], axis=1) # Enlever les colonnes qui ne nous intéressent pas\n",
    "dataframe = dataframe[0:10] # Nous n'allons utiliser que les 10 premières lignes de l'ensemble de données dans cet exemple\n",
    "dataframe # Demandons au carnet de nous montrer à quoi ressemble le dataframe maintenant"
   ]
  },
  {
   "cell_type": "markdown",
   "metadata": {
    "collapsed": false
   },
   "source": [
    "La dataframe n'a maintenant que les caractéristiques. Ajoutons les libellés."
   ]
  },
  {
   "cell_type": "code",
   "execution_count": 3,
   "metadata": {
    "collapsed": false
   },
   "outputs": [
    {
     "data": {
      "text/plain": "     area  bathrooms  y1  y2\n0  2104.0        3.0   1   0\n1  1600.0        3.0   1   0\n2  2400.0        3.0   1   0\n3  1416.0        2.0   0   1\n4  3000.0        4.0   0   1\n5  1985.0        4.0   1   0\n6  1534.0        3.0   0   1\n7  1427.0        3.0   1   0\n8  1380.0        3.0   1   0\n9  1494.0        3.0   1   0",
      "text/html": "<div>\n<style scoped>\n    .dataframe tbody tr th:only-of-type {\n        vertical-align: middle;\n    }\n\n    .dataframe tbody tr th {\n        vertical-align: top;\n    }\n\n    .dataframe thead th {\n        text-align: right;\n    }\n</style>\n<table border=\"1\" class=\"dataframe\">\n  <thead>\n    <tr style=\"text-align: right;\">\n      <th></th>\n      <th>area</th>\n      <th>bathrooms</th>\n      <th>y1</th>\n      <th>y2</th>\n    </tr>\n  </thead>\n  <tbody>\n    <tr>\n      <th>0</th>\n      <td>2104.0</td>\n      <td>3.0</td>\n      <td>1</td>\n      <td>0</td>\n    </tr>\n    <tr>\n      <th>1</th>\n      <td>1600.0</td>\n      <td>3.0</td>\n      <td>1</td>\n      <td>0</td>\n    </tr>\n    <tr>\n      <th>2</th>\n      <td>2400.0</td>\n      <td>3.0</td>\n      <td>1</td>\n      <td>0</td>\n    </tr>\n    <tr>\n      <th>3</th>\n      <td>1416.0</td>\n      <td>2.0</td>\n      <td>0</td>\n      <td>1</td>\n    </tr>\n    <tr>\n      <th>4</th>\n      <td>3000.0</td>\n      <td>4.0</td>\n      <td>0</td>\n      <td>1</td>\n    </tr>\n    <tr>\n      <th>5</th>\n      <td>1985.0</td>\n      <td>4.0</td>\n      <td>1</td>\n      <td>0</td>\n    </tr>\n    <tr>\n      <th>6</th>\n      <td>1534.0</td>\n      <td>3.0</td>\n      <td>0</td>\n      <td>1</td>\n    </tr>\n    <tr>\n      <th>7</th>\n      <td>1427.0</td>\n      <td>3.0</td>\n      <td>1</td>\n      <td>0</td>\n    </tr>\n    <tr>\n      <th>8</th>\n      <td>1380.0</td>\n      <td>3.0</td>\n      <td>1</td>\n      <td>0</td>\n    </tr>\n    <tr>\n      <th>9</th>\n      <td>1494.0</td>\n      <td>3.0</td>\n      <td>1</td>\n      <td>0</td>\n    </tr>\n  </tbody>\n</table>\n</div>"
     },
     "execution_count": 3,
     "metadata": {},
     "output_type": "execute_result"
    }
   ],
   "source": [
    "dataframe.loc[:, (\"y1\")] = [1, 1, 1, 0, 0, 1, 0, 1, 1, 1] # Ceci est la liste de notre amie des maisons qu'elle a aimées\n",
    "                                                          # 1 = bon, 0 = mauvais\n",
    "dataframe.loc[:, (\"y2\")] = dataframe[\"y1\"] == 0           # y2 est la négation de y1\n",
    "dataframe.loc[:, (\"y2\")] = dataframe[\"y2\"].astype(int)    # Transforme les valeurs TRUE/FALSE en 1/0\n",
    "# y2 signifie que nous n'aimons pas une maison\n",
    "# (Oui, c'est redondant. Mais apprendre à le faire de cette manière ouvre la porte au classement multi-classes)\n",
    "dataframe # À quoi ressemble notre dataframe maintenant ?"
   ]
  },
  {
   "cell_type": "markdown",
   "metadata": {
    "collapsed": false
   },
   "source": [
    "Maintenant que nous avons toutes nos données dans la dataframe,\n",
    "nous devons les arranger sous forme de matrices avant de les donner à TensorFlow"
   ]
  },
  {
   "cell_type": "code",
   "execution_count": 4,
   "metadata": {
    "collapsed": false,
    "scrolled": false
   },
   "outputs": [
    {
     "name": "stderr",
     "output_type": "stream",
     "text": [
      "/Users/javarome/anaconda3/envs/zelros-cs-nlp/lib/python3.7/site-packages/ipykernel_launcher.py:1: FutureWarning: Method .as_matrix will be removed in a future version. Use .values instead.\n",
      "  \"\"\"Entry point for launching an IPython kernel.\n",
      "/Users/javarome/anaconda3/envs/zelros-cs-nlp/lib/python3.7/site-packages/ipykernel_launcher.py:2: FutureWarning: Method .as_matrix will be removed in a future version. Use .values instead.\n",
      "  \n"
     ]
    }
   ],
   "source": [
    "inputX = dataframe.loc[:, ['area', 'bathrooms']].as_matrix()\n",
    "inputY = dataframe.loc[:, [\"y1\", \"y2\"]].as_matrix()"
   ]
  },
  {
   "cell_type": "markdown",
   "metadata": {},
   "source": [
    "Maintenant notre matrice d'entrée ressemble à ceci:"
   ]
  },
  {
   "cell_type": "code",
   "execution_count": 5,
   "metadata": {
    "collapsed": false
   },
   "outputs": [
    {
     "data": {
      "text/plain": "array([[2.104e+03, 3.000e+00],\n       [1.600e+03, 3.000e+00],\n       [2.400e+03, 3.000e+00],\n       [1.416e+03, 2.000e+00],\n       [3.000e+03, 4.000e+00],\n       [1.985e+03, 4.000e+00],\n       [1.534e+03, 3.000e+00],\n       [1.427e+03, 3.000e+00],\n       [1.380e+03, 3.000e+00],\n       [1.494e+03, 3.000e+00]])"
     },
     "execution_count": 5,
     "metadata": {},
     "output_type": "execute_result"
    }
   ],
   "source": [
    "inputX"
   ]
  },
  {
   "cell_type": "markdown",
   "metadata": {},
   "source": [
    "Et notre matrice de libellés à ceci :"
   ]
  },
  {
   "cell_type": "code",
   "execution_count": 6,
   "metadata": {
    "collapsed": false
   },
   "outputs": [
    {
     "data": {
      "text/plain": "array([[1, 0],\n       [1, 0],\n       [1, 0],\n       [0, 1],\n       [0, 1],\n       [1, 0],\n       [0, 1],\n       [1, 0],\n       [1, 0],\n       [1, 0]])"
     },
     "execution_count": 6,
     "metadata": {},
     "output_type": "execute_result"
    }
   ],
   "source": [
    "inputY"
   ]
  },
  {
   "cell_type": "markdown",
   "metadata": {},
   "source": [
    "Préparons des paramètres pour le processus d'entraînement"
   ]
  },
  {
   "cell_type": "code",
   "execution_count": 7,
   "metadata": {
    "collapsed": false
   },
   "outputs": [],
   "source": [
    "# Paramètres\n",
    "learning_rate = 0.000001\n",
    "training_epochs = 2000\n",
    "display_step = 50\n",
    "n_samples = inputY.size"
   ]
  },
  {
   "cell_type": "markdown",
   "metadata": {},
   "source": [
    "Et maintenant définissons les opérations TensorFlow.\n",
    "Notez qu'il s'agit d'une étape de déclaration où nous indiquons à TensorFlow comment est calculée la prédiction.\n",
    "Si nous l'exécutons, aucun calcul ne sera effectué.\n",
    "Il répondra juste qu'il sait maintenant comment faire l'opération."
   ]
  },
  {
   "cell_type": "code",
   "execution_count": 8,
   "metadata": {
    "collapsed": true
   },
   "outputs": [],
   "source": [
    "x = tf.placeholder(tf.float32, [None, 2])   # Ok TensorFlow, on te donnera un tableau d'exemples. Chaque exemple sera\n",
    "                                            # un tableau de 2 valeurs décimales (surface, et nombre de salles de bain).\n",
    "                                            # \"None\" veut dire qu'on peut te donner n'importe quel nombre d'exemples\n",
    "                                            # Notez que nous ne lui avons pas encore fourni les valeurs\n",
    "            \n",
    "W = tf.Variable(tf.zeros([2, 2]))           # Maintiens un matrice de nombre décimaux de 2 x 2 pour les poids que nous mettrons à jour constamment\n",
    "                                            # lors du processus d'entraînement (on les met tous à zéro pour commencer)\n",
    "    \n",
    "b = tf.Variable(tf.zeros([2]))              # Maintiens aussi 2 valeurs de biais\n",
    "\n",
    "y_values = tf.add(tf.matmul(x, W), b)       # La 1ère étape pour calculer la prédiction sera de multiplier\n",
    "                                            # la matrice des entrées par la matrice des poids puis d'ajouter les biais\n",
    "    \n",
    "y = tf.nn.softmax(y_values)                 # Puis utiliser le softmax comme \"fonction d'activation\" qui traduit les\n",
    "                                            # nombres en sortie de la couche précédente sous forme de probabilités\n",
    "    \n",
    "y_ = tf.placeholder(tf.float32, [None,2])   # Pour l'entraînement, on te fournira aussi une matrice de libellés"
   ]
  },
  {
   "cell_type": "markdown",
   "metadata": {},
   "source": [
    "Spécifions notre fonction de coût et utilisons la Descente de Gradient"
   ]
  },
  {
   "cell_type": "code",
   "execution_count": 9,
   "metadata": {
    "collapsed": true
   },
   "outputs": [
    {
     "name": "stdout",
     "output_type": "stream",
     "text": [
      "WARNING:tensorflow:From /Users/javarome/anaconda3/envs/zelros-cs-nlp/lib/python3.7/site-packages/tensorflow/python/ops/math_grad.py:1205: add_dispatch_support.<locals>.wrapper (from tensorflow.python.ops.array_ops) is deprecated and will be removed in a future version.\n",
      "Instructions for updating:\n",
      "Use tf.where in 2.0, which has the same broadcast rule as np.where\n"
     ]
    }
   ],
   "source": [
    "\n",
    "# Fonction de coût : Erreur quadratique moyenne\n",
    "cost = tf.reduce_sum(tf.pow(y_ - y, 2))/(2*n_samples)\n",
    "# Descente de gradient\n",
    "optimizer = tf.train.GradientDescentOptimizer(learning_rate).minimize(cost)\n"
   ]
  },
  {
   "cell_type": "code",
   "execution_count": 10,
   "metadata": {
    "collapsed": true
   },
   "outputs": [
    {
     "name": "stdout",
     "output_type": "stream",
     "text": [
      "WARNING:tensorflow:From /Users/javarome/anaconda3/envs/zelros-cs-nlp/lib/python3.7/site-packages/tensorflow/python/util/tf_should_use.py:193: initialize_all_variables (from tensorflow.python.ops.variables) is deprecated and will be removed after 2017-03-02.\n",
      "Instructions for updating:\n",
      "Use `tf.global_variables_initializer` instead.\n"
     ]
    }
   ],
   "source": [
    "# Initialise les variables et la session tensorflow\n",
    "init = tf.initialize_all_variables()\n",
    "sess = tf.Session()\n",
    "sess.run(init)"
   ]
  },
  {
   "cell_type": "markdown",
   "metadata": {},
   "source": [
    "*Roulement de tambours*\n",
    "\n",
    "Et maintenant l'entraînement à proprement parler"
   ]
  },
  {
   "cell_type": "code",
   "execution_count": 11,
   "metadata": {
    "collapsed": false,
    "scrolled": false
   },
   "outputs": [
    {
     "name": "stdout",
     "output_type": "stream",
     "text": [
      "Etape d entraînement : 0000 coût= 0.114958666\n",
      "Etape d entraînement : 0050 coût= 0.109539941\n",
      "Etape d entraînement : 0100 coût= 0.109539881\n",
      "Etape d entraînement : 0150 coût= 0.109539807\n",
      "Etape d entraînement : 0200 coût= 0.109539740\n",
      "Etape d entraînement : 0250 coût= 0.109539680\n",
      "Etape d entraînement : 0300 coût= 0.109539606\n",
      "Etape d entraînement : 0350 coût= 0.109539531\n",
      "Etape d entraînement : 0400 coût= 0.109539464\n",
      "Etape d entraînement : 0450 coût= 0.109539390\n",
      "Etape d entraînement : 0500 coût= 0.109539323\n",
      "Etape d entraînement : 0550 coût= 0.109539248\n",
      "Etape d entraînement : 0600 coût= 0.109539203\n",
      "Etape d entraînement : 0650 coût= 0.109539129\n",
      "Etape d entraînement : 0700 coût= 0.109539054\n",
      "Etape d entraînement : 0750 coût= 0.109538987\n",
      "Etape d entraînement : 0800 coût= 0.109538913\n",
      "Etape d entraînement : 0850 coût= 0.109538853\n",
      "Etape d entraînement : 0900 coût= 0.109538786\n",
      "Etape d entraînement : 0950 coût= 0.109538712\n",
      "Etape d entraînement : 1000 coût= 0.109538652\n",
      "Etape d entraînement : 1050 coût= 0.109538577\n",
      "Etape d entraînement : 1100 coût= 0.109538510\n",
      "Etape d entraînement : 1150 coût= 0.109538436\n",
      "Etape d entraînement : 1200 coût= 0.109538369\n",
      "Etape d entraînement : 1250 coût= 0.109538309\n",
      "Etape d entraînement : 1300 coût= 0.109538250\n",
      "Etape d entraînement : 1350 coût= 0.109538175\n",
      "Etape d entraînement : 1400 coût= 0.109538101\n",
      "Etape d entraînement : 1450 coût= 0.109538034\n",
      "Etape d entraînement : 1500 coût= 0.109537959\n",
      "Etape d entraînement : 1550 coût= 0.109537899\n",
      "Etape d entraînement : 1600 coût= 0.109537832\n",
      "Etape d entraînement : 1650 coût= 0.109537773\n",
      "Etape d entraînement : 1700 coût= 0.109537683\n",
      "Etape d entraînement : 1750 coût= 0.109537624\n",
      "Etape d entraînement : 1800 coût= 0.109537557\n",
      "Etape d entraînement : 1850 coût= 0.109537482\n",
      "Etape d entraînement : 1900 coût= 0.109537423\n",
      "Etape d entraînement : 1950 coût= 0.109537356\n",
      "Optimisation terminée !\n",
      "Coût d'entraînement= 0.10953728 W= [[ 2.1414938e-04 -2.1415012e-04]\n",
      " [ 5.1274808e-05 -5.1274790e-05]] b= [ 1.19155184e-05 -1.19155275e-05] \n",
      "\n"
     ]
    }
   ],
   "source": [
    "for i in range(training_epochs):  \n",
    "    sess.run(optimizer, feed_dict={x: inputX, y_: inputY}) # Itère dans la descente de gradient en utilisant nos entrées et libellés\n",
    "\n",
    "    # C'est tout ! Le reste de la cellule ne fait qu'afficher des messages de deboguage.\n",
    "    # Affiche les logs par étape d'époque\n",
    "    if (i) % display_step == 0:\n",
    "        cc = sess.run(cost, feed_dict={x: inputX, y_:inputY})\n",
    "        print(\"Etape d entraînement :\", '%04d' % (i), \"coût=\", \"{:.9f}\".format(cc)) #, \\\"W=\", sess.run(W), \"b=\", sess.run(b)\n",
    "\n",
    "print(\"Optimisation terminée !\")\n",
    "training_cost = sess.run(cost, feed_dict={x: inputX, y_: inputY})\n",
    "print(\"Coût d'entraînement=\", training_cost, \"W=\", sess.run(W), \"b=\", sess.run(b), '\\n')\n"
   ]
  },
  {
   "cell_type": "markdown",
   "metadata": {
    "collapsed": true
   },
   "source": [
    "L'entraînement est maintenant terminé.\n",
    "TensorFlow garde maintenant notre modèle entraîné\n",
    "(qui se résume aux opérations définies,\n",
    "plus les variables W et b qui ont été trouvées par le processus d'entraînement).\n",
    "\n",
    "Une valeur de coût de 0.109537 est-elle bonne ou mauvaise ? Aucune idée.\n",
    "Au moins c'est mieux que la 1ère valeur de coût de 0.114958666.\n",
    "Utilisons le modèle sur notre dataset pour voir comment il se comporte, quand même :"
   ]
  },
  {
   "cell_type": "code",
   "execution_count": 12,
   "metadata": {
    "collapsed": false
   },
   "outputs": [
    {
     "data": {
      "text/plain": "array([[0.7112522 , 0.28874776],\n       [0.66498977, 0.33501023],\n       [0.73657656, 0.26342347],\n       [0.6471879 , 0.3528121 ],\n       [0.78335613, 0.2166439 ],\n       [0.7006948 , 0.29930523],\n       [0.6586633 , 0.34133676],\n       [0.6482863 , 0.35171375],\n       [0.6436828 , 0.35631716],\n       [0.65480113, 0.3451989 ]], dtype=float32)"
     },
     "execution_count": 12,
     "metadata": {},
     "output_type": "execute_result"
    }
   ],
   "source": [
    "sess.run(y, feed_dict={x: inputX })"
   ]
  },
  {
   "cell_type": "markdown",
   "metadata": {},
   "source": [
    "Donc il pense que toutes sont des bonnes maisons.\n",
    "Ca fait 7 bonnes réponses sur 10. Pas super impressionnant.\n",
    "Un modèle avec une couche cachée devrait être meilleur, je suppose."
   ]
  },
  {
   "cell_type": "markdown",
   "metadata": {
    "collapsed": false
   },
   "source": [
    "En passant, voici comment j'ai calculé les valeurs de softmax dans l'article :"
   ]
  },
  {
   "cell_type": "code",
   "execution_count": 13,
   "metadata": {
    "collapsed": false
   },
   "outputs": [
    {
     "data": {
      "text/plain": "array([0.26894143, 0.7310586 ], dtype=float32)"
     },
     "execution_count": 13,
     "metadata": {},
     "output_type": "execute_result"
    }
   ],
   "source": [
    "sess.run(tf.nn.softmax([1., 2.]))"
   ]
  }
 ],
 "metadata": {
  "anaconda-cloud": {},
  "kernelspec": {
   "name": "python3",
   "language": "python",
   "display_name": "Python 3"
  },
  "language_info": {
   "codemirror_mode": {
    "name": "ipython",
    "version": 2
   },
   "file_extension": ".py",
   "mimetype": "text/x-python",
   "name": "python",
   "nbconvert_exporter": "python",
   "pygments_lexer": "ipython2",
   "version": "2.7.12"
  }
 },
 "nbformat": 4,
 "nbformat_minor": 0
}